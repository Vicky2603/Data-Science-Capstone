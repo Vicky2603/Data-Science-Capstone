{
 "cells": [
  {
   "cell_type": "markdown",
   "metadata": {},
   "source": [
    "<h1><center> Where to open the Restaurant and Which is the best place.<h1>"
   ]
  },
  {
   "cell_type": "markdown",
   "metadata": {},
   "source": [
    "# Part - 1: Description of the problem"
   ]
  },
  {
   "cell_type": "markdown",
   "metadata": {},
   "source": [
    "## How to start Restaurant\n",
    "###  According to 2018 survey in India, 38% of people like to eat one to three times per week.  In every upcoming year, the percentage of eating in Resturants is increasing by 0.30%."
   ]
  },
  {
   "cell_type": "markdown",
   "metadata": {},
   "source": [
    "### 1.Choose a Restaurant Concept\n",
    "### 2.What should be the Menu items\n",
    "### 3.Design a Restaurant Layout\n",
    "### 4.Permits and Licenses\n",
    "### 5.Hire the Right Staff"
   ]
  },
  {
   "cell_type": "markdown",
   "metadata": {},
   "source": [
    "# 1.Choose a Restaurant Concept\n",
    "## When starting a Restaurant, it's important to have a clear concept idea. Restaurant concept includes the service style of the restaurant, the serving of food and ambiance of the Restaurant. \n",
    "## This goes hand-in-hand with your concept, which forms Restaurant's identity, personality with some good impression."
   ]
  },
  {
   "cell_type": "markdown",
   "metadata": {},
   "source": [
    "# 2. What should be the Menu items\n",
    "## The Menu items is also dependent on which country you are going to open the restaurant.\n",
    "\n",
    "## Suppose, you are opening a restaurant in India, then the food items must be some spicy and masala items. According to the food menu's, you have to hire the chef's."
   ]
  },
  {
   "cell_type": "markdown",
   "metadata": {},
   "source": [
    "# 3.Design a Restaurant Layout\n",
    "## Common restaurant problem areas are: places that customers areas don't usually want to sit - include tables near kitchen entrance, restrooms and front entrance.\n",
    "## To overcome this problem areas, you can try placing dividers, such as wooden partitions, tall plants or screen in between tables.\n",
    "## One way to spot the problem areas before opening day is to sit each and every single chair in your dining room.\n",
    "## Although, we should add some music with some artworks, this will maintain some great ambiance.\n",
    "## Heating and Ventilation, this is the major problem of the restaurants."
   ]
  },
  {
   "cell_type": "markdown",
   "metadata": {},
   "source": [
    "# 4.Permits and Licenses\n",
    "## To open a new restaurant, you'll need to obtain several federal , state and local permits and licenses. It is very necessary stepm when anyone is opening a restaurant."
   ]
  },
  {
   "cell_type": "markdown",
   "metadata": {},
   "source": [
    "# 5.Hire the right staff\n",
    "## One major and Important step of opening restaurant is hiring staff.\n",
    "## Consider all roles that need to be filled at your restaurant before hiring staff.This includes Human Resources Management and Supervisiors, food and beverages purchasing, receiving and storing products.\n",
    "## The below are  list of hiring staff:\n",
    "### - Executive Staff\n",
    "### - General Manager\n",
    "### - Servers\n",
    "### - Dishwashers\n",
    "### - Food Server"
   ]
  },
  {
   "cell_type": "markdown",
   "metadata": {},
   "source": [
    "# ----------------------------------------------------------------------------------------------------------------"
   ]
  },
  {
   "cell_type": "markdown",
   "metadata": {},
   "source": [
    "# Part - 2: What Data do we need"
   ]
  },
  {
   "cell_type": "markdown",
   "metadata": {},
   "source": [
    "## When we come to choose a location to open new restaurant, the following features are among the most important:\n",
    "### - Visbility and Accessbility: Select a spot that can be seen by those driving and walking by. In addtion, cosider if there is parking area."
   ]
  },
  {
   "cell_type": "markdown",
   "metadata": {},
   "source": [
    "## Data-1: We will need a geo-location data using Foursquare api to estimate the population and other stores of the specific area. From using this link: https://developer.foursquare.com/"
   ]
  },
  {
   "cell_type": "markdown",
   "metadata": {},
   "source": [
    "## Data-2: This Second data causes or used for Farmers Market's and Food Boxes dataset. \n",
    "## We can get Farmer's data using this link: https://data.cityofnewyork.us/dataset/DOHMH-Farmers-Markets/8vwk-6iz2"
   ]
  },
  {
   "cell_type": "markdown",
   "metadata": {},
   "source": [
    " "
   ]
  }
 ],
 "metadata": {
  "kernelspec": {
   "display_name": "Python 3",
   "language": "python",
   "name": "python3"
  },
  "language_info": {
   "codemirror_mode": {
    "name": "ipython",
    "version": 3
   },
   "file_extension": ".py",
   "mimetype": "text/x-python",
   "name": "python",
   "nbconvert_exporter": "python",
   "pygments_lexer": "ipython3",
   "version": "3.7.4"
  }
 },
 "nbformat": 4,
 "nbformat_minor": 2
}
